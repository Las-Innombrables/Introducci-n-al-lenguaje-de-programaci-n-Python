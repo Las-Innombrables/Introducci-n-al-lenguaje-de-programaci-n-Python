{
  "nbformat": 4,
  "nbformat_minor": 0,
  "metadata": {
    "colab": {
      "provenance": []
    },
    "kernelspec": {
      "name": "python3",
      "display_name": "Python 3"
    },
    "language_info": {
      "name": "python"
    }
  },
  "cells": [
    {
      "cell_type": "markdown",
      "source": [
        "1. Un algoritmo que lea tres números y los imprima ordenado ascendentemente."
      ],
      "metadata": {
        "id": "kwa8EowYDrsf"
      }
    },
    {
      "cell_type": "code",
      "source": [
        "num1 = int(input(\"Introduce el primer número: \"))\n",
        "num2 = int(input(\"Introduce el segundo número: \"))\n",
        "num3 = int(input(\"Introduce el tercer número: \"))\n",
        "\n",
        "#Ordenamos los numeros usando sorted()\n",
        "numeros = [num1, num2, num3]\n",
        "numeros_ordenados = sorted(numeros)\n",
        "print(\"Números ordenados:\", numeros_ordenados)\n"
      ],
      "metadata": {
        "colab": {
          "base_uri": "https://localhost:8080/"
        },
        "id": "bwvGLU0jDwDm",
        "outputId": "bd16ec6d-63d8-42e1-81c9-151bcd2845c2"
      },
      "execution_count": 5,
      "outputs": [
        {
          "output_type": "stream",
          "name": "stdout",
          "text": [
            "Introduce el primer número: 5\n",
            "Introduce el segundo número: 2\n",
            "Introduce el tercer número: 7\n",
            "Números ordenados: [2, 5, 7]\n"
          ]
        }
      ]
    },
    {
      "cell_type": "markdown",
      "source": [
        "2. Los algoritmos propuestos  en el libro \"Python con aplicaciones a las matemáticas, ingeniería y finanzas:\n",
        "3.10 Intereses de una cuenta bancaria."
      ],
      "metadata": {
        "id": "JU3EwiBwDy2f"
      }
    },
    {
      "cell_type": "code",
      "source": [
        "P = float(input(\"Introduce el capital inicial (P): \"))\n",
        "r = float(input(\"Introduce la tasa de interés anual (%): \"))\n",
        "n = int(input(\"Introduce el número de veces que se capitaliza el interés por año (n): \"))\n",
        "t = float(input(\"Introduce el tiempo en años (t): \"))\n",
        "\n",
        "#Monto total con interes compuesto\n",
        "M = P * (1 + r / n) ** (n * t)\n",
        "I = M - P\n",
        "\n",
        "print(f\"El interés compuesto ganado es: {I}\")\n",
        "print(f\"El monto total después de {t} años es: {M}\")"
      ],
      "metadata": {
        "colab": {
          "base_uri": "https://localhost:8080/"
        },
        "id": "cHMeu-qTD9MK",
        "outputId": "9564e5a4-6203-451e-b55b-26015767a5e5"
      },
      "execution_count": 6,
      "outputs": [
        {
          "output_type": "stream",
          "name": "stdout",
          "text": [
            "Introduce el capital inicial (P): 5000\n",
            "Introduce la tasa de interés anual (en decimal, por ejemplo, 0.05 para 5%): 0.5\n",
            "Introduce el número de veces que se capitaliza el interés por año (n): 4\n",
            "Introduce el tiempo en años (t): 12\n",
            "El interés compuesto ganado es: 1421563.4140233067\n",
            "El monto total después de 12.0 años es: 1426563.4140233067\n"
          ]
        }
      ]
    },
    {
      "cell_type": "markdown",
      "source": [
        "3.13 Calificaciones numéricas y literales."
      ],
      "metadata": {
        "id": "4JZwnpuwEAVc"
      }
    },
    {
      "cell_type": "code",
      "source": [
        "# Función para convertir una nota numérica (0-20) a literal\n",
        "def convertir_a_literal(nota):\n",
        "    if 18 <= nota <= 20:\n",
        "        return \"Excelente\"\n",
        "    elif 15 <= nota < 18:\n",
        "        return \"Muy Bueno\"\n",
        "    elif 12 <= nota < 15:\n",
        "        return \"Bueno\"\n",
        "    elif 10 <= nota < 12:\n",
        "        return \"Regular\"\n",
        "    else:\n",
        "        return \"Insuficiente\"\n",
        "\n",
        "# Pedir al usuario la cantidad de notas a ingresar\n",
        "cantidad_notas = int(input(\"¿Cuántas notas deseas ingresar?: \"))\n",
        "\n",
        "# Crear una lista para almacenar las notas numéricas\n",
        "notas = []\n",
        "\n",
        "# Bucle para ingresar cada nota\n",
        "for i in range(cantidad_notas):\n",
        "    nota = float(input(f\"Introduce la nota {i+1} (0-20): \"))\n",
        "    notas.append(nota)\n",
        "\n",
        "# Convertir las notas a calificaciones literales y mostrarlas\n",
        "print(\"\\nResultado de las notas:\")\n",
        "for i, nota in enumerate(notas):\n",
        "    calificacion_literal = convertir_a_literal(nota)\n",
        "    print(f\"Nota {i+1}: {nota} - {calificacion_literal}\")"
      ],
      "metadata": {
        "colab": {
          "base_uri": "https://localhost:8080/"
        },
        "id": "-dBE7QRSECSS",
        "outputId": "74b05ad4-a03b-46b6-fe45-dccc44e7a7bc"
      },
      "execution_count": 7,
      "outputs": [
        {
          "output_type": "stream",
          "name": "stdout",
          "text": [
            "¿Cuántas notas deseas ingresar?: 3\n",
            "Introduce la nota 1 (0-20): 20\n",
            "Introduce la nota 2 (0-20): 20\n",
            "Introduce la nota 3 (0-20): 20\n",
            "\n",
            "Resultado de las notas:\n",
            "Nota 1: 20.0 - Excelente\n",
            "Nota 2: 20.0 - Excelente\n",
            "Nota 3: 20.0 - Excelente\n"
          ]
        }
      ]
    },
    {
      "cell_type": "markdown",
      "source": [
        "3.15 Convertir de grados sexagesimales a radianes y viceversa."
      ],
      "metadata": {
        "id": "FlfCxbMaECky"
      }
    },
    {
      "cell_type": "code",
      "source": [
        "import math\n",
        "\n",
        "# Función para convertir grados a radianes\n",
        "def grados_a_radianes(grados):\n",
        "    return grados * math.pi / 180\n",
        "\n",
        "# Función para convertir radianes a grados\n",
        "def radianes_a_grados(radianes):\n",
        "    return radianes * 180 / math.pi\n",
        "\n",
        "# Función para mostrar el menú\n",
        "def mostrar_menu():\n",
        "    print(\"===================MENU===================\")\n",
        "    print(\"Selecciona el tipo de conversión:\")\n",
        "    print(\"1. Convertir de grados a radianes\")\n",
        "    print(\"2. Convertir de radianes a grados\")\n",
        "    print(\"3. Salir\")\n",
        "\n",
        "# Bucle principal del menú\n",
        "while True:\n",
        "    mostrar_menu()\n",
        "    opcion = int(input(\"Introduce el número de la opción (1, 2 o 3): \"))\n",
        "\n",
        "    if opcion == 1:\n",
        "        grados = float(input(\"Introduce los grados: \"))\n",
        "        radianes = grados_a_radianes(grados)\n",
        "        print(f\"{grados} grados equivalen a {radianes:.4f} radianes.\")\n",
        "\n",
        "    elif opcion == 2:\n",
        "        radianes = float(input(\"Introduce los radianes: \"))\n",
        "        grados = radianes_a_grados(radianes)\n",
        "        print(f\"{radianes:.4f} radianes equivalen a {grados:.4f} grados.\")\n",
        "\n",
        "    elif opcion == 3:\n",
        "        print(\"Saliendo del programa. ¡Hasta luego!\")\n",
        "        break  # Salir del bucle y del programa\n",
        "\n",
        "    else:\n",
        "        print(\"Opción no válida. Por favor selecciona 1, 2 o 3.\")\n",
        "\n",
        "    print(\"\\n\")  # Línea en blanco para separar opciones\n"
      ],
      "metadata": {
        "colab": {
          "base_uri": "https://localhost:8080/"
        },
        "id": "VgqQz-7nE1La",
        "outputId": "0cebd564-9210-42ab-e413-4dda8b54f383"
      },
      "execution_count": null,
      "outputs": [
        {
          "output_type": "stream",
          "name": "stdout",
          "text": [
            "===================MENU===================\n",
            "Selecciona el tipo de conversión:\n",
            "1. Convertir de grados a radianes\n",
            "2. Convertir de radianes a grados\n",
            "3. Salir\n",
            "Introduce el número de la opción (1, 2 o 3): 1\n",
            "Introduce los grados: 90\n",
            "90.0 grados equivalen a 1.5708 radianes.\n",
            "\n",
            "\n",
            "===================MENU===================\n",
            "Selecciona el tipo de conversión:\n",
            "1. Convertir de grados a radianes\n",
            "2. Convertir de radianes a grados\n",
            "3. Salir\n"
          ]
        }
      ]
    },
    {
      "cell_type": "markdown",
      "source": [
        "4.14 Cálculo de la raíz cuadrada."
      ],
      "metadata": {
        "id": "xbrGJoHOE1jd"
      }
    },
    {
      "cell_type": "code",
      "source": [
        "import math\n",
        "\n",
        "# Función para calcular la raíz cuadrada\n",
        "def calcular_raiz_cuadrada(numero):\n",
        "    if numero < 0:\n",
        "        return \"No se puede calcular la raíz cuadrada de un número negativo.\"\n",
        "    else:\n",
        "        return math.sqrt(numero)\n",
        "\n",
        "# Solicitar al usuario que introduzca un número\n",
        "numero = float(input(\"Introduce un número: \"))\n",
        "\n",
        "# Calcular la raíz cuadrada\n",
        "resultado = calcular_raiz_cuadrada(numero)\n",
        "\n",
        "# Mostrar el resultado\n",
        "print(f\"La raíz cuadrada de {numero} es: {resultado}\")"
      ],
      "metadata": {
        "colab": {
          "base_uri": "https://localhost:8080/"
        },
        "id": "8ZO8RPYTE4WC",
        "outputId": "60c35d52-4d55-404a-90a4-2bc48898ece3"
      },
      "execution_count": 10,
      "outputs": [
        {
          "output_type": "stream",
          "name": "stdout",
          "text": [
            "Introduce un número: 64\n",
            "La raíz cuadrada de 64.0 es: 8.0\n"
          ]
        }
      ]
    },
    {
      "cell_type": "markdown",
      "source": [
        "4.15 Dibujo de un cuadrado."
      ],
      "metadata": {
        "id": "Bhr9obYRE6aT"
      }
    },
    {
      "cell_type": "code",
      "source": [
        "import matplotlib.pyplot as plt\n",
        "\n",
        "# Función para dibujar un cuadrado con matplotlib\n",
        "def dibujar_cuadrado(longitud_lado):\n",
        "    # Coordenadas de los vertices del cuadrado\n",
        "    x = [0, longitud_lado, longitud_lado, 0, 0]\n",
        "    y = [0, 0, longitud_lado, longitud_lado, 0]\n",
        "\n",
        "    plt.plot(x, y, 'b-')\n",
        "    plt.fill(x, y, 'skyblue')\n",
        "    plt.axis('equal')\n",
        "    plt.show()\n",
        "\n",
        "#pedir la longitud del cuadrado\n",
        "longitud_lado = int(input(\"Introduce la longitud del lado del cuadrado: \"))\n",
        "\n",
        "# Dibujar\n",
        "dibujar_cuadrado(longitud_lado)\n"
      ],
      "metadata": {
        "colab": {
          "base_uri": "https://localhost:8080/",
          "height": 448
        },
        "id": "ORFtEt4aE7ZU",
        "outputId": "86e47d27-99f9-4731-8867-99b320fabc41"
      },
      "execution_count": 14,
      "outputs": [
        {
          "name": "stdout",
          "output_type": "stream",
          "text": [
            "Introduce la longitud del lado del cuadrado: 40\n"
          ]
        },
        {
          "output_type": "display_data",
          "data": {
            "text/plain": [
              "<Figure size 640x480 with 1 Axes>"
            ],
            "image/png": "[encoded data removed]"
          },
          "metadata": {}
        }
      ]
    }
  ]
}
